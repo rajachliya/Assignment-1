{
 "cells": [
  {
   "cell_type": "code",
   "execution_count": 1,
   "id": "69d5c23c-5354-4f87-b021-6d38f86094bd",
   "metadata": {},
   "outputs": [],
   "source": [
    "import pandas as pd\n",
    "import numpy as np\n",
    "positive_templates = [\n",
    "     \"Amazing film, a must watch.\",\n",
    "     \"Great storyline and excellent acting.\",\n",
    "     \"One of the best movies I've seen.\",\n",
    "]\n",
    "negative_templates = [\n",
    "    \"Worst film I've watched.\",\n",
    "    \"Don't waste your time on this movie.\",\n",
    "    \"Poorly made and directed.\"\n",
    "]\n",
    "reviews = []\n",
    "sentiments = []\n",
    "for _ in range(50):\n",
    "    reviews.append(np.random.choice(positive_templates))\n",
    "    sentiments.append('positive')\n",
    "    reviews.append(np.random.choice(negative_templates))\n",
    "    sentiments.append('negative')\n",
    "df = pd.DataFrame({'Review': reviews, 'Sentiment': sentiments})"
   ]
  },
  {
   "cell_type": "code",
   "execution_count": 2,
   "id": "10f37650-6433-4f28-871e-aa5420a9646f",
   "metadata": {},
   "outputs": [
    {
     "ename": "ModuleNotFoundError",
     "evalue": "No module named 'sklearn'",
     "output_type": "error",
     "traceback": [
      "\u001b[31m---------------------------------------------------------------------------\u001b[39m",
      "\u001b[31mModuleNotFoundError\u001b[39m                       Traceback (most recent call last)",
      "\u001b[36mCell\u001b[39m\u001b[36m \u001b[39m\u001b[32mIn[2]\u001b[39m\u001b[32m, line 1\u001b[39m\n\u001b[32m----> \u001b[39m\u001b[32m1\u001b[39m \u001b[38;5;28;01mfrom\u001b[39;00m\u001b[38;5;250m \u001b[39m\u001b[34;01msklearn\u001b[39;00m\u001b[34;01m.\u001b[39;00m\u001b[34;01mfeature_extraction\u001b[39;00m\u001b[34;01m.\u001b[39;00m\u001b[34;01mtext\u001b[39;00m\u001b[38;5;250m \u001b[39m\u001b[38;5;28;01mimport\u001b[39;00m CountVectorizer\n\u001b[32m      3\u001b[39m vectorizer = CountVectorizer(max_features=\u001b[32m500\u001b[39m, stop_words=\u001b[33m'\u001b[39m\u001b[33menglish\u001b[39m\u001b[33m'\u001b[39m)\n\u001b[32m      4\u001b[39m X = vectorizer.fit_transform(df[\u001b[33m'\u001b[39m\u001b[33mReview\u001b[39m\u001b[33m'\u001b[39m])\n",
      "\u001b[31mModuleNotFoundError\u001b[39m: No module named 'sklearn'"
     ]
    }
   ],
   "source": [
    "from sklearn.feature_extraction.text import CountVectorizer\n",
    "\n",
    "vectorizer = CountVectorizer(max_features=500, stop_words='english')\n",
    "X = vectorizer.fit_transform(df['Review'])\n",
    "y = df['Sentiment']\n"
   ]
  },
  {
   "cell_type": "code",
   "execution_count": null,
   "id": "817a737c-525f-4e59-9040-471b92eaf01b",
   "metadata": {},
   "outputs": [],
   "source": [
    "from sklearn.model_selection import train_test_split\n",
    "\n",
    "X_train, X_test, y_train, y_test = train_test_split(\n",
    "    X, y, test_size=0.2, random_state=42\n",
    ")\n"
   ]
  },
  {
   "cell_type": "code",
   "execution_count": null,
   "id": "8b0a9692-cb2f-44ad-bab2-0fd230ee4483",
   "metadata": {},
   "outputs": [],
   "source": [
    "from sklearn.naive_bayes import MultinomialNB\n",
    "from sklearn.metrics import accuracy_score\n",
    "\n",
    "model = MultinomialNB()\n",
    "model.fit(X_train, y_train)\n",
    "\n",
    "y_pred = model.predict(X_test)\n",
    "accuracy = accuracy_score(y_test, y_pred)\n",
    "print(f\"Test Accuracy: {accuracy * 100:.2f}%\")\n"
   ]
  },
  {
   "cell_type": "code",
   "execution_count": null,
   "id": "8a404785-3f90-40cb-abb1-49b52afb0f9a",
   "metadata": {},
   "outputs": [],
   "source": [
    "def predict_review_sentiment(model, vectorizer, review: str) -> str:\n",
    "    \"\"\"\n",
    "    Predict the sentiment (positive/negative) of a single review.\n",
    "    \"\"\"\n",
    "    vec = vectorizer.transform([review])\n",
    "    return model.predict(vec)[0]\n",
    "\n",
    "# Example\n",
    "new_review = \"The film had superb acting, I loved it.\"\n",
    "print(\"Predicted sentiment:\", predict_review_sentiment(model, vectorizer, new_review))\n"
   ]
  }
 ],
 "metadata": {
  "kernelspec": {
   "display_name": "Python 3 (ipykernel)",
   "language": "python",
   "name": "python3"
  },
  "language_info": {
   "codemirror_mode": {
    "name": "ipython",
    "version": 3
   },
   "file_extension": ".py",
   "mimetype": "text/x-python",
   "name": "python",
   "nbconvert_exporter": "python",
   "pygments_lexer": "ipython3",
   "version": "3.13.2"
  }
 },
 "nbformat": 4,
 "nbformat_minor": 5
}
