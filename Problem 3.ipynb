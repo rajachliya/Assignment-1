{
 "cells": [
  {
   "cell_type": "code",
   "execution_count": 1,
   "id": "9c492416-887d-4a3c-b63b-c4b4bcb00e43",
   "metadata": {},
   "outputs": [],
   "source": [
    "import pandas as pd\n",
    "import numpy as np\n",
    "\n",
    "names = ['Raj', 'Esha', 'Rachit', 'Shreyas', 'Amit', 'Sonali', 'Rohit', 'Neha', 'Virat', 'Rahul']\n",
    "subjects = ['Maths', 'Physics', 'English', 'Chemistry', 'Bio', 'Civics', 'Hindi', 'Marathi', 'History', 'Geography']\n",
    "scores = np.random.randint(0, 101, size=10)\n",
    "\n",
    "df = pd.DataFrame({\n",
    "    'Name': names,\n",
    "    'Subject': subjects,\n",
    "    'Score': scores,\n",
    "    'Grade': ''\n",
    "})                "
   ]
  },
  {
   "cell_type": "code",
   "execution_count": 2,
   "id": "1ad75748-a0d1-4953-8f50-c6073db93919",
   "metadata": {},
   "outputs": [],
   "source": [
    "def assign_grade(score):\n",
    "    if score >= 90:\n",
    "        return 'A'\n",
    "    elif score >= 80:\n",
    "        return 'B'\n",
    "    elif score >= 70:\n",
    "        return 'C'\n",
    "    elif score >= 60:\n",
    "        return 'D'\n",
    "    else:\n",
    "        return 'F'\n",
    "df['Grade'] = df['Score'].apply(assign_grade)"
   ]
  },
  {
   "cell_type": "code",
   "execution_count": 3,
   "id": "ed87211e-df7e-41a9-b6ce-48fd554c54f1",
   "metadata": {},
   "outputs": [
    {
     "name": "stdout",
     "output_type": "stream",
     "text": [
      "Sorted by Score (Descending):\n",
      "       Name    Subject  Score Grade\n",
      "1     Esha    Physics     90     A\n",
      "7     Neha    Marathi     81     B\n",
      "6    Rohit      Hindi     76     C\n",
      "8    Virat    History     71     C\n",
      "0      Raj      Maths     52     F\n",
      "4     Amit        Bio     48     F\n",
      "9    Rahul  Geography     46     F\n",
      "2   Rachit    English     45     F\n",
      "5   Sonali     Civics     40     F\n",
      "3  Shreyas  Chemistry     13     F\n"
     ]
    }
   ],
   "source": [
    "sorted_df = df.sort_values(by='Score', ascending=False)\n",
    "print(\"Sorted by Score (Descending):\\n\", sorted_df)\n"
   ]
  },
  {
   "cell_type": "code",
   "execution_count": 4,
   "id": "c84f830a-a9cf-4f23-8602-debc5ad4a91f",
   "metadata": {},
   "outputs": [
    {
     "name": "stdout",
     "output_type": "stream",
     "text": [
      "\n",
      "Average Score by Subject:\n",
      " Subject\n",
      "Bio          48.0\n",
      "Chemistry    13.0\n",
      "Civics       40.0\n",
      "English      45.0\n",
      "Geography    46.0\n",
      "Hindi        76.0\n",
      "History      71.0\n",
      "Marathi      81.0\n",
      "Maths        52.0\n",
      "Physics      90.0\n",
      "Name: Score, dtype: float64\n"
     ]
    }
   ],
   "source": [
    "avg_scores = df.groupby('Subject')['Score'].mean()\n",
    "print(\"\\nAverage Score by Subject:\\n\", avg_scores)\n"
   ]
  },
  {
   "cell_type": "code",
   "execution_count": 5,
   "id": "3b4d9ae3-91a7-4b5d-80b8-74a78ec7f491",
   "metadata": {},
   "outputs": [
    {
     "name": "stdout",
     "output_type": "stream",
     "text": [
      "\n",
      "Students with Grade A or B:\n",
      "    Name  Subject  Score Grade\n",
      "1  Esha  Physics     90     A\n",
      "7  Neha  Marathi     81     B\n"
     ]
    }
   ],
   "source": [
    "def pandas_filter_pass(dataframe):\n",
    "    return dataframe[dataframe['Grade'].isin(['A', 'B'])]\n",
    "passed_df = pandas_filter_pass(df)\n",
    "print(\"\\nStudents with Grade A or B:\\n\", passed_df)\n"
   ]
  }
 ],
 "metadata": {
  "kernelspec": {
   "display_name": "Python 3 (ipykernel)",
   "language": "python",
   "name": "python3"
  },
  "language_info": {
   "codemirror_mode": {
    "name": "ipython",
    "version": 3
   },
   "file_extension": ".py",
   "mimetype": "text/x-python",
   "name": "python",
   "nbconvert_exporter": "python",
   "pygments_lexer": "ipython3",
   "version": "3.13.2"
  }
 },
 "nbformat": 4,
 "nbformat_minor": 5
}
