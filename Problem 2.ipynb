{
 "cells": [
  {
   "cell_type": "code",
   "execution_count": 19,
   "id": "e7b2a26b-f2dd-476a-af49-986a6f466ed4",
   "metadata": {},
   "outputs": [
    {
     "name": "stdout",
     "output_type": "stream",
     "text": [
      "[1.55 2.49 1.34 3.06 0.5  3.35 6.79 5.85 9.41 5.04 0.62 3.22 0.38 1.4\n",
      " 2.74 9.08 0.83 3.03 1.34 6.04]\n"
     ]
    }
   ],
   "source": [
    "import numpy as np\n",
    "arr = np.random.uniform(0, 10, 20)\n",
    "rounded_arr = np.round(arr, 2)\n",
    "print( rounded_arr)"
   ]
  },
  {
   "cell_type": "code",
   "execution_count": 20,
   "id": "44183048-c5a6-4f50-88b2-35e6738db7ef",
   "metadata": {},
   "outputs": [
    {
     "name": "stdout",
     "output_type": "stream",
     "text": [
      "0.38\n",
      "9.41\n",
      "2.885\n"
     ]
    }
   ],
   "source": [
    "print( np.min(rounded_arr))\n",
    "print( np.max(rounded_arr))\n",
    "print( np.median(rounded_arr))"
   ]
  },
  {
   "cell_type": "code",
   "execution_count": 21,
   "id": "978a17fa-16f9-4d9f-9642-d9d1141283bf",
   "metadata": {},
   "outputs": [
    {
     "name": "stdout",
     "output_type": "stream",
     "text": [
      "[ 2.4   6.2   1.8   9.36  0.25 11.22  6.79  5.85  9.41  5.04  0.38 10.37\n",
      "  0.14  1.96  7.51  9.08  0.69  9.18  1.8   6.04]\n"
     ]
    }
   ],
   "source": [
    "modified_arr = np.where(rounded_arr < 5, np.round(rounded_arr**2, 2), rounded_arr)\n",
    "print( modified_arr)"
   ]
  },
  {
   "cell_type": "code",
   "execution_count": 22,
   "id": "8928ed84-84b7-47f3-9fa5-c4ae3061838a",
   "metadata": {},
   "outputs": [],
   "source": [
    "def numpy_alternate_sort(array):\n",
    "    sorted_arr = np.sort(array) \n",
    "    result = [] \n",
    "    i = 0 \n",
    "    j =len(sorted_arr) - 1\n",
    "    while i <= j:\n",
    "        result.append(sorted_arr[i])        \n",
    "        if i != j:\n",
    "            result.append(sorted_arr[j])    \n",
    "        i += 1\n",
    "        j -= 1\n",
    "\n",
    "    return np.array(result) \n",
    "    \n",
    "    "
   ]
  },
  {
   "cell_type": "code",
   "execution_count": null,
   "id": "233893a9-c58a-41f8-a49c-d0f59e0c6b3f",
   "metadata": {},
   "outputs": [],
   "source": []
  }
 ],
 "metadata": {
  "kernelspec": {
   "display_name": "Python 3 (ipykernel)",
   "language": "python",
   "name": "python3"
  },
  "language_info": {
   "codemirror_mode": {
    "name": "ipython",
    "version": 3
   },
   "file_extension": ".py",
   "mimetype": "text/x-python",
   "name": "python",
   "nbconvert_exporter": "python",
   "pygments_lexer": "ipython3",
   "version": "3.13.2"
  }
 },
 "nbformat": 4,
 "nbformat_minor": 5
}
