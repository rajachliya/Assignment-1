{
 "cells": [
  {
   "cell_type": "code",
   "execution_count": 9,
   "id": "e63cee89-8989-401a-8fd1-ba615c00db6f",
   "metadata": {},
   "outputs": [
    {
     "name": "stdout",
     "output_type": "stream",
     "text": [
      "Original Array:\n",
      " [[ 7 47 37 50]\n",
      " [19 34 16  2]\n",
      " [29 40 45 21]\n",
      " [28 44 45 48]\n",
      " [16 11 31 38]]\n"
     ]
    }
   ],
   "source": [
    "import numpy as np\n",
    "array = np.random.randint(1, 51, size=(5, 4))\n",
    "print(\"Original Array:\\n\", array)"
   ]
  },
  {
   "cell_type": "code",
   "execution_count": 10,
   "id": "6ae7111c-c5e8-440d-be48-196b65708029",
   "metadata": {},
   "outputs": [
    {
     "name": "stdout",
     "output_type": "stream",
     "text": [
      "Anti-diagonal elements: [50, 16, 40, 28]\n"
     ]
    }
   ],
   "source": [
    "anti_diagonal = [int(array[i, -1 - i]) for i in range(min(array.shape))]\n",
    "print(\"Anti-diagonal elements:\", anti_diagonal)"
   ]
  },
  {
   "cell_type": "code",
   "execution_count": 11,
   "id": "9b3c5bed-878b-4458-9ab8-8b210b38e848",
   "metadata": {},
   "outputs": [
    {
     "name": "stdout",
     "output_type": "stream",
     "text": [
      "Maximum value in each row: [50 34 45 48 38]\n"
     ]
    }
   ],
   "source": [
    "row_max = np.max(array, axis=1)\n",
    "print(\"Maximum value in each row:\", row_max)"
   ]
  },
  {
   "cell_type": "code",
   "execution_count": 12,
   "id": "6fbd965b-c07b-4907-bdbe-7fff7dc9f1b7",
   "metadata": {},
   "outputs": [
    {
     "name": "stdout",
     "output_type": "stream",
     "text": [
      "Elements less than or equal to mean ( 30.4 ): [ 7 19 16  2 29 21 28 16 11]\n"
     ]
    }
   ],
   "source": [
    "mean_value = np.mean(array)\n",
    "less_equal_mean = array[array <= mean_value]\n",
    "print(\"Elements less than or equal to mean (\", mean_value, \"):\", less_equal_mean)"
   ]
  },
  {
   "cell_type": "code",
   "execution_count": 13,
   "id": "2173c747-5c0a-4a83-ac19-34ffb727ae77",
   "metadata": {},
   "outputs": [
    {
     "name": "stdout",
     "output_type": "stream",
     "text": [
      "[7, 47, 37, 50, 2, 21, 48, 38, 31, 11, 16, 28, 29, 19]\n"
     ]
    }
   ],
   "source": [
    "def numpy_boundary_traversal(matrix):\n",
    "    if matrix.ndim != 2:\n",
    "        raise ValueError(\"Input must be a 2D NumPy array.\")\n",
    "    top = matrix[0, :]\n",
    "    right = matrix[1:-1, -1]\n",
    "    bottom = matrix[-1, ::-1]\n",
    "    left = matrix[-2:0:-1, 0]\n",
    "    return np.concatenate((top, right, bottom, left)).tolist()\n",
    "\n",
    "# Test the function\n",
    "boundary = numpy_boundary_traversal(array)\n",
    "print(boundary)"
   ]
  }
 ],
 "metadata": {
  "kernelspec": {
   "display_name": "Python 3 (ipykernel)",
   "language": "python",
   "name": "python3"
  },
  "language_info": {
   "codemirror_mode": {
    "name": "ipython",
    "version": 3
   },
   "file_extension": ".py",
   "mimetype": "text/x-python",
   "name": "python",
   "nbconvert_exporter": "python",
   "pygments_lexer": "ipython3",
   "version": "3.13.2"
  }
 },
 "nbformat": 4,
 "nbformat_minor": 5
}
