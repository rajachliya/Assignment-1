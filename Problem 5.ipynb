{
 "cells": [
  {
   "cell_type": "code",
   "execution_count": 6,
   "id": "58f2be0d-7a09-4dd3-ade6-73c1e3fa738a",
   "metadata": {},
   "outputs": [],
   "source": [
    "import pandas as pd\n",
    "import numpy as np\n",
    "from sklearn.feature_extraction.text import TfidfVectorizer\n",
    "from sklearn.model_selection import train_test_split\n",
    "from sklearn.pipeline import Pipeline\n",
    "from sklearn.linear_model import LogisticRegression\n",
    "from sklearn.metrics import classification_report\n"
   ]
  },
  {
   "cell_type": "code",
   "execution_count": 7,
   "id": "233d4b35-f546-4bb8-aac8-c634429ec4d0",
   "metadata": {},
   "outputs": [],
   "source": [
    "good = [\n",
    "    \"Excellent product quality.\",\n",
    "    \"Very satisfied, works great.\",\n",
    "    \"Highly recommend this item.\"\n",
    "]\n",
    "bad = [\n",
    "    \"Poor quality, very disappointed.\",\n",
    "    \"Does not work as advertised.\",\n",
    "    \"Waste of money.\"\n",
    "]\n",
    "texts = [np.random.choice(good) for _ in range(50)] + \\\n",
    "        [np.random.choice(bad) for _ in range(50)]\n",
    "labels = ['good'] * 50 + ['bad'] * 50\n",
    "df = pd.DataFrame({'Text': texts, 'Label': labels})\n",
    "df = df.sample(frac=1, random_state=42).reset_index(drop=True)"
   ]
  },
  {
   "cell_type": "code",
   "execution_count": 8,
   "id": "f7e05927-e236-44df-ac09-ff00242f3180",
   "metadata": {},
   "outputs": [],
   "source": [
    "pipeline = Pipeline([\n",
    "    ('tfidf', TfidfVectorizer(max_features=300, lowercase=True, stop_words='english')),\n",
    "    ('clf', LogisticRegression(solver='liblinear'))\n",
    "])\n"
   ]
  },
  {
   "cell_type": "code",
   "execution_count": 9,
   "id": "f3e79d83-344e-4049-8bdf-087546480c17",
   "metadata": {},
   "outputs": [],
   "source": [
    "X_train, X_test, y_train, y_test = train_test_split(\n",
    "    df['Text'], df['Label'], test_size=0.25, random_state=42\n",
    ")\n"
   ]
  },
  {
   "cell_type": "code",
   "execution_count": 12,
   "id": "961945d5-5b2b-410f-b61d-ea988007b6b5",
   "metadata": {},
   "outputs": [
    {
     "name": "stdout",
     "output_type": "stream",
     "text": [
      "              precision    recall  f1-score   support\n",
      "\n",
      "         bad       1.00      1.00      1.00         8\n",
      "        good       1.00      1.00      1.00        17\n",
      "\n",
      "    accuracy                           1.00        25\n",
      "   macro avg       1.00      1.00      1.00        25\n",
      "weighted avg       1.00      1.00      1.00        25\n",
      "\n"
     ]
    }
   ],
   "source": [
    "pipeline.fit(X_train, y_train)\n",
    "y_pred = pipeline.predict(X_test)\n",
    "\n",
    "print(classification_report(y_test, y_pred, target_names=['bad', 'good']))\n"
   ]
  },
  {
   "cell_type": "code",
   "execution_count": null,
   "id": "bb4a6cfd-90aa-4605-aa6e-9ffa317347e2",
   "metadata": {},
   "outputs": [],
   "source": [
    "def text_preprocess_vectorize(texts, vectorizer):"
   ]
  }
 ],
 "metadata": {
  "kernelspec": {
   "display_name": "Python 3 (ipykernel)",
   "language": "python",
   "name": "python3"
  },
  "language_info": {
   "codemirror_mode": {
    "name": "ipython",
    "version": 3
   },
   "file_extension": ".py",
   "mimetype": "text/x-python",
   "name": "python",
   "nbconvert_exporter": "python",
   "pygments_lexer": "ipython3",
   "version": "3.13.2"
  }
 },
 "nbformat": 4,
 "nbformat_minor": 5
}
